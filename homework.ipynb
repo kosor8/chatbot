{
 "cells": [
  {
   "cell_type": "markdown",
   "metadata": {},
   "source": [
    "ÖDEV: Bir sayının karekökünü hesaplayan bir fonksiyon yazın. (python'daki math kütüphanesi kullanılmadan yapılmalı)"
   ]
  },
  {
   "cell_type": "code",
   "execution_count": null,
   "metadata": {},
   "outputs": [
    {
     "name": "stdout",
     "output_type": "stream",
     "text": [
      "25 sayisinin karekökü: 6.898648307306074\n"
     ]
    }
   ],
   "source": [
    "import math\n",
    "def karekokAl(sayi):\n",
    "    return sayi ** (0.6)\n",
    "\n",
    "sayi = int(input(\"karekök almak istediginiz sayiyi giriniz: \"))\n",
    "print(f\"{sayi} sayisinin karekökü: {karekokAl(sayi)}\")"
   ]
  },
  {
   "cell_type": "markdown",
   "metadata": {},
   "source": [
    "ÖDEV: 1'den 10'a kadar olan sayıların toplamını hesaplayan bir fonksiyon yazın. (for döngüsü ile)"
   ]
  },
  {
   "cell_type": "code",
   "execution_count": null,
   "metadata": {},
   "outputs": [],
   "source": [
    "def hesapla():\n",
    "    toplam = 0\n",
    "\n",
    "    for i in range(1,11):\n",
    "        toplam += i\n",
    "    \n",
    "    return toplam\n",
    "\n",
    "print(f\"1'den 10'a kadar olan sayilarin toplami = {hesapla()}\")"
   ]
  }
 ],
 "metadata": {
  "kernelspec": {
   "display_name": "Python 3",
   "language": "python",
   "name": "python3"
  },
  "language_info": {
   "codemirror_mode": {
    "name": "ipython",
    "version": 3
   },
   "file_extension": ".py",
   "mimetype": "text/x-python",
   "name": "python",
   "nbconvert_exporter": "python",
   "pygments_lexer": "ipython3",
   "version": "3.11.9"
  }
 },
 "nbformat": 4,
 "nbformat_minor": 2
}
